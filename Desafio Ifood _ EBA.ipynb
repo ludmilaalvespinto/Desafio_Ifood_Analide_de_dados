{
 "cells": [
  {
   "cell_type": "markdown",
   "id": "485f9605",
   "metadata": {},
   "source": [
    "<h1> Introdução"
   ]
  },
  {
   "cell_type": "markdown",
   "id": "7926238d",
   "metadata": {},
   "source": [
    "Esse desafio foi proposto no curso de estatística EBA. \n",
    "No conjunto de dados é composto por clientes da empresa Ifood, com dados sobre:\n",
    "\n",
    " \n"
   ]
  },
  {
   "cell_type": "markdown",
   "id": "593124a7",
   "metadata": {},
   "source": [
    "    - Perfis do cliente\n",
    "    - Preferência do produto\n",
    "    - Sucessos/fracassos da campanha\n",
    "    - Desempenho do canal\n",
    "\n",
    "Com esse dataset iremos realizar uma análise exploratória desses dados"
   ]
  },
  {
   "cell_type": "markdown",
   "id": "ade0989d",
   "metadata": {},
   "source": [
    "<h2> Entendendo os clientes"
   ]
  },
  {
   "cell_type": "markdown",
   "id": "97cbcb0d",
   "metadata": {},
   "source": [
    "Primeiramente, vamos explorar os dados que possuem nessa tabela. \n",
    "- Qual é o maior salário encontrado na base, demonstrado pela coluna 'Income' \n",
    "- Qual é a distribuição de salário\n",
    "- Nossos clientes tem níveis de educação maiores ou menores? Demonstrado na coluna 'education_level'\n",
    "- Quantos clientes temos em cada estado civil, demonstrado na coluna 'marital_status'"
   ]
  },
  {
   "cell_type": "code",
   "execution_count": 1,
   "id": "e1790444",
   "metadata": {},
   "outputs": [],
   "source": [
    "#importando as bibliotecas\n",
    "import pandas as pd\n",
    "import seaborn as sns\n",
    "import numpy as np \n",
    "import matplotlib.pyplot as plt"
   ]
  },
  {
   "cell_type": "code",
   "execution_count": 2,
   "id": "3a735c8f",
   "metadata": {},
   "outputs": [],
   "source": [
    "#importando o documento\n",
    "df = pd.read_csv(\"mkt_data.csv\")"
   ]
  },
  {
   "cell_type": "code",
   "execution_count": 5,
   "id": "a15cefa1",
   "metadata": {},
   "outputs": [
    {
     "name": "stdout",
     "output_type": "stream",
     "text": [
      "<class 'pandas.core.frame.DataFrame'>\n",
      "RangeIndex: 2205 entries, 0 to 2204\n",
      "Data columns (total 44 columns):\n",
      " #   Column                Non-Null Count  Dtype  \n",
      "---  ------                --------------  -----  \n",
      " 0   Unnamed: 0            2205 non-null   int64  \n",
      " 1   Income                2205 non-null   float64\n",
      " 2   Kidhome               2205 non-null   int64  \n",
      " 3   Teenhome              2205 non-null   int64  \n",
      " 4   Recency               2205 non-null   int64  \n",
      " 5   MntWines              2205 non-null   int64  \n",
      " 6   MntFruits             2205 non-null   int64  \n",
      " 7   MntMeatProducts       2205 non-null   int64  \n",
      " 8   MntFishProducts       2205 non-null   int64  \n",
      " 9   MntSweetProducts      2205 non-null   int64  \n",
      " 10  MntGoldProds          2205 non-null   int64  \n",
      " 11  NumDealsPurchases     2205 non-null   int64  \n",
      " 12  NumWebPurchases       2205 non-null   int64  \n",
      " 13  NumCatalogPurchases   2205 non-null   int64  \n",
      " 14  NumStorePurchases     2205 non-null   int64  \n",
      " 15  NumWebVisitsMonth     2205 non-null   int64  \n",
      " 16  AcceptedCmp3          2205 non-null   int64  \n",
      " 17  AcceptedCmp4          2205 non-null   int64  \n",
      " 18  AcceptedCmp5          2205 non-null   int64  \n",
      " 19  AcceptedCmp1          2205 non-null   int64  \n",
      " 20  AcceptedCmp2          2205 non-null   int64  \n",
      " 21  Complain              2205 non-null   int64  \n",
      " 22  Z_CostContact         2205 non-null   int64  \n",
      " 23  Z_Revenue             2205 non-null   int64  \n",
      " 24  Response              2205 non-null   int64  \n",
      " 25  Age                   2205 non-null   int64  \n",
      " 26  Customer_Days         2205 non-null   int64  \n",
      " 27  marital_Divorced      230 non-null    float64\n",
      " 28  marital_Married       854 non-null    float64\n",
      " 29  marital_Single        477 non-null    float64\n",
      " 30  marital_Together      568 non-null    float64\n",
      " 31  marital_Widow         76 non-null     float64\n",
      " 32  education_2n Cycle    198 non-null    float64\n",
      " 33  education_Basic       54 non-null     float64\n",
      " 34  education_Graduation  1113 non-null   float64\n",
      " 35  education_Master      364 non-null    float64\n",
      " 36  education_PhD         476 non-null    float64\n",
      " 37  MntTotal              2205 non-null   int64  \n",
      " 38  MntRegularProds       2205 non-null   int64  \n",
      " 39  AcceptedCmpOverall    2205 non-null   int64  \n",
      " 40  marital_status        2205 non-null   object \n",
      " 41  education_level       2205 non-null   object \n",
      " 42  kids                  2205 non-null   int64  \n",
      " 43  expenses              2205 non-null   int64  \n",
      "dtypes: float64(11), int64(31), object(2)\n",
      "memory usage: 758.1+ KB\n"
     ]
    }
   ],
   "source": [
    "df.info()"
   ]
  },
  {
   "cell_type": "code",
   "execution_count": 6,
   "id": "5ffc6d62",
   "metadata": {},
   "outputs": [
    {
     "data": {
      "text/html": [
       "<div>\n",
       "<style scoped>\n",
       "    .dataframe tbody tr th:only-of-type {\n",
       "        vertical-align: middle;\n",
       "    }\n",
       "\n",
       "    .dataframe tbody tr th {\n",
       "        vertical-align: top;\n",
       "    }\n",
       "\n",
       "    .dataframe thead th {\n",
       "        text-align: right;\n",
       "    }\n",
       "</style>\n",
       "<table border=\"1\" class=\"dataframe\">\n",
       "  <thead>\n",
       "    <tr style=\"text-align: right;\">\n",
       "      <th></th>\n",
       "      <th>Unnamed: 0</th>\n",
       "      <th>Income</th>\n",
       "      <th>Kidhome</th>\n",
       "      <th>Teenhome</th>\n",
       "      <th>Recency</th>\n",
       "      <th>MntWines</th>\n",
       "      <th>MntFruits</th>\n",
       "      <th>MntMeatProducts</th>\n",
       "      <th>MntFishProducts</th>\n",
       "      <th>MntSweetProducts</th>\n",
       "      <th>...</th>\n",
       "      <th>education_Graduation</th>\n",
       "      <th>education_Master</th>\n",
       "      <th>education_PhD</th>\n",
       "      <th>MntTotal</th>\n",
       "      <th>MntRegularProds</th>\n",
       "      <th>AcceptedCmpOverall</th>\n",
       "      <th>marital_status</th>\n",
       "      <th>education_level</th>\n",
       "      <th>kids</th>\n",
       "      <th>expenses</th>\n",
       "    </tr>\n",
       "  </thead>\n",
       "  <tbody>\n",
       "    <tr>\n",
       "      <th>0</th>\n",
       "      <td>0</td>\n",
       "      <td>58138.0</td>\n",
       "      <td>0</td>\n",
       "      <td>0</td>\n",
       "      <td>58</td>\n",
       "      <td>635</td>\n",
       "      <td>88</td>\n",
       "      <td>546</td>\n",
       "      <td>172</td>\n",
       "      <td>88</td>\n",
       "      <td>...</td>\n",
       "      <td>3.0</td>\n",
       "      <td>NaN</td>\n",
       "      <td>NaN</td>\n",
       "      <td>1529</td>\n",
       "      <td>1441</td>\n",
       "      <td>0</td>\n",
       "      <td>Single</td>\n",
       "      <td>Graduation</td>\n",
       "      <td>0</td>\n",
       "      <td>1529</td>\n",
       "    </tr>\n",
       "    <tr>\n",
       "      <th>1</th>\n",
       "      <td>1</td>\n",
       "      <td>46344.0</td>\n",
       "      <td>1</td>\n",
       "      <td>1</td>\n",
       "      <td>38</td>\n",
       "      <td>11</td>\n",
       "      <td>1</td>\n",
       "      <td>6</td>\n",
       "      <td>2</td>\n",
       "      <td>1</td>\n",
       "      <td>...</td>\n",
       "      <td>3.0</td>\n",
       "      <td>NaN</td>\n",
       "      <td>NaN</td>\n",
       "      <td>21</td>\n",
       "      <td>15</td>\n",
       "      <td>0</td>\n",
       "      <td>Single</td>\n",
       "      <td>Graduation</td>\n",
       "      <td>2</td>\n",
       "      <td>21</td>\n",
       "    </tr>\n",
       "    <tr>\n",
       "      <th>2</th>\n",
       "      <td>2</td>\n",
       "      <td>71613.0</td>\n",
       "      <td>0</td>\n",
       "      <td>0</td>\n",
       "      <td>26</td>\n",
       "      <td>426</td>\n",
       "      <td>49</td>\n",
       "      <td>127</td>\n",
       "      <td>111</td>\n",
       "      <td>21</td>\n",
       "      <td>...</td>\n",
       "      <td>3.0</td>\n",
       "      <td>NaN</td>\n",
       "      <td>NaN</td>\n",
       "      <td>734</td>\n",
       "      <td>692</td>\n",
       "      <td>0</td>\n",
       "      <td>Together</td>\n",
       "      <td>Graduation</td>\n",
       "      <td>0</td>\n",
       "      <td>734</td>\n",
       "    </tr>\n",
       "    <tr>\n",
       "      <th>3</th>\n",
       "      <td>3</td>\n",
       "      <td>26646.0</td>\n",
       "      <td>1</td>\n",
       "      <td>0</td>\n",
       "      <td>26</td>\n",
       "      <td>11</td>\n",
       "      <td>4</td>\n",
       "      <td>20</td>\n",
       "      <td>10</td>\n",
       "      <td>3</td>\n",
       "      <td>...</td>\n",
       "      <td>3.0</td>\n",
       "      <td>NaN</td>\n",
       "      <td>NaN</td>\n",
       "      <td>48</td>\n",
       "      <td>43</td>\n",
       "      <td>0</td>\n",
       "      <td>Together</td>\n",
       "      <td>Graduation</td>\n",
       "      <td>1</td>\n",
       "      <td>48</td>\n",
       "    </tr>\n",
       "    <tr>\n",
       "      <th>4</th>\n",
       "      <td>4</td>\n",
       "      <td>58293.0</td>\n",
       "      <td>1</td>\n",
       "      <td>0</td>\n",
       "      <td>94</td>\n",
       "      <td>173</td>\n",
       "      <td>43</td>\n",
       "      <td>118</td>\n",
       "      <td>46</td>\n",
       "      <td>27</td>\n",
       "      <td>...</td>\n",
       "      <td>NaN</td>\n",
       "      <td>NaN</td>\n",
       "      <td>5.0</td>\n",
       "      <td>407</td>\n",
       "      <td>392</td>\n",
       "      <td>0</td>\n",
       "      <td>Married</td>\n",
       "      <td>PhD</td>\n",
       "      <td>1</td>\n",
       "      <td>407</td>\n",
       "    </tr>\n",
       "    <tr>\n",
       "      <th>...</th>\n",
       "      <td>...</td>\n",
       "      <td>...</td>\n",
       "      <td>...</td>\n",
       "      <td>...</td>\n",
       "      <td>...</td>\n",
       "      <td>...</td>\n",
       "      <td>...</td>\n",
       "      <td>...</td>\n",
       "      <td>...</td>\n",
       "      <td>...</td>\n",
       "      <td>...</td>\n",
       "      <td>...</td>\n",
       "      <td>...</td>\n",
       "      <td>...</td>\n",
       "      <td>...</td>\n",
       "      <td>...</td>\n",
       "      <td>...</td>\n",
       "      <td>...</td>\n",
       "      <td>...</td>\n",
       "      <td>...</td>\n",
       "      <td>...</td>\n",
       "    </tr>\n",
       "    <tr>\n",
       "      <th>2200</th>\n",
       "      <td>2200</td>\n",
       "      <td>61223.0</td>\n",
       "      <td>0</td>\n",
       "      <td>1</td>\n",
       "      <td>46</td>\n",
       "      <td>709</td>\n",
       "      <td>43</td>\n",
       "      <td>182</td>\n",
       "      <td>42</td>\n",
       "      <td>118</td>\n",
       "      <td>...</td>\n",
       "      <td>3.0</td>\n",
       "      <td>NaN</td>\n",
       "      <td>NaN</td>\n",
       "      <td>1094</td>\n",
       "      <td>847</td>\n",
       "      <td>0</td>\n",
       "      <td>Married</td>\n",
       "      <td>Graduation</td>\n",
       "      <td>1</td>\n",
       "      <td>1094</td>\n",
       "    </tr>\n",
       "    <tr>\n",
       "      <th>2201</th>\n",
       "      <td>2201</td>\n",
       "      <td>64014.0</td>\n",
       "      <td>2</td>\n",
       "      <td>1</td>\n",
       "      <td>56</td>\n",
       "      <td>406</td>\n",
       "      <td>0</td>\n",
       "      <td>30</td>\n",
       "      <td>0</td>\n",
       "      <td>0</td>\n",
       "      <td>...</td>\n",
       "      <td>NaN</td>\n",
       "      <td>NaN</td>\n",
       "      <td>5.0</td>\n",
       "      <td>436</td>\n",
       "      <td>428</td>\n",
       "      <td>1</td>\n",
       "      <td>Together</td>\n",
       "      <td>PhD</td>\n",
       "      <td>3</td>\n",
       "      <td>436</td>\n",
       "    </tr>\n",
       "    <tr>\n",
       "      <th>2202</th>\n",
       "      <td>2202</td>\n",
       "      <td>56981.0</td>\n",
       "      <td>0</td>\n",
       "      <td>0</td>\n",
       "      <td>91</td>\n",
       "      <td>908</td>\n",
       "      <td>48</td>\n",
       "      <td>217</td>\n",
       "      <td>32</td>\n",
       "      <td>12</td>\n",
       "      <td>...</td>\n",
       "      <td>3.0</td>\n",
       "      <td>NaN</td>\n",
       "      <td>NaN</td>\n",
       "      <td>1217</td>\n",
       "      <td>1193</td>\n",
       "      <td>1</td>\n",
       "      <td>Divorced</td>\n",
       "      <td>Graduation</td>\n",
       "      <td>0</td>\n",
       "      <td>1217</td>\n",
       "    </tr>\n",
       "    <tr>\n",
       "      <th>2203</th>\n",
       "      <td>2203</td>\n",
       "      <td>69245.0</td>\n",
       "      <td>0</td>\n",
       "      <td>1</td>\n",
       "      <td>8</td>\n",
       "      <td>428</td>\n",
       "      <td>30</td>\n",
       "      <td>214</td>\n",
       "      <td>80</td>\n",
       "      <td>30</td>\n",
       "      <td>...</td>\n",
       "      <td>NaN</td>\n",
       "      <td>4.0</td>\n",
       "      <td>NaN</td>\n",
       "      <td>782</td>\n",
       "      <td>721</td>\n",
       "      <td>0</td>\n",
       "      <td>Together</td>\n",
       "      <td>Master</td>\n",
       "      <td>1</td>\n",
       "      <td>782</td>\n",
       "    </tr>\n",
       "    <tr>\n",
       "      <th>2204</th>\n",
       "      <td>2204</td>\n",
       "      <td>52869.0</td>\n",
       "      <td>1</td>\n",
       "      <td>1</td>\n",
       "      <td>40</td>\n",
       "      <td>84</td>\n",
       "      <td>3</td>\n",
       "      <td>61</td>\n",
       "      <td>2</td>\n",
       "      <td>1</td>\n",
       "      <td>...</td>\n",
       "      <td>NaN</td>\n",
       "      <td>NaN</td>\n",
       "      <td>5.0</td>\n",
       "      <td>151</td>\n",
       "      <td>130</td>\n",
       "      <td>0</td>\n",
       "      <td>Married</td>\n",
       "      <td>PhD</td>\n",
       "      <td>2</td>\n",
       "      <td>151</td>\n",
       "    </tr>\n",
       "  </tbody>\n",
       "</table>\n",
       "<p>2205 rows × 44 columns</p>\n",
       "</div>"
      ],
      "text/plain": [
       "      Unnamed: 0   Income  Kidhome  Teenhome  Recency  MntWines  MntFruits  \\\n",
       "0              0  58138.0        0         0       58       635         88   \n",
       "1              1  46344.0        1         1       38        11          1   \n",
       "2              2  71613.0        0         0       26       426         49   \n",
       "3              3  26646.0        1         0       26        11          4   \n",
       "4              4  58293.0        1         0       94       173         43   \n",
       "...          ...      ...      ...       ...      ...       ...        ...   \n",
       "2200        2200  61223.0        0         1       46       709         43   \n",
       "2201        2201  64014.0        2         1       56       406          0   \n",
       "2202        2202  56981.0        0         0       91       908         48   \n",
       "2203        2203  69245.0        0         1        8       428         30   \n",
       "2204        2204  52869.0        1         1       40        84          3   \n",
       "\n",
       "      MntMeatProducts  MntFishProducts  MntSweetProducts  ...  \\\n",
       "0                 546              172                88  ...   \n",
       "1                   6                2                 1  ...   \n",
       "2                 127              111                21  ...   \n",
       "3                  20               10                 3  ...   \n",
       "4                 118               46                27  ...   \n",
       "...               ...              ...               ...  ...   \n",
       "2200              182               42               118  ...   \n",
       "2201               30                0                 0  ...   \n",
       "2202              217               32                12  ...   \n",
       "2203              214               80                30  ...   \n",
       "2204               61                2                 1  ...   \n",
       "\n",
       "      education_Graduation  education_Master  education_PhD  MntTotal  \\\n",
       "0                      3.0               NaN            NaN      1529   \n",
       "1                      3.0               NaN            NaN        21   \n",
       "2                      3.0               NaN            NaN       734   \n",
       "3                      3.0               NaN            NaN        48   \n",
       "4                      NaN               NaN            5.0       407   \n",
       "...                    ...               ...            ...       ...   \n",
       "2200                   3.0               NaN            NaN      1094   \n",
       "2201                   NaN               NaN            5.0       436   \n",
       "2202                   3.0               NaN            NaN      1217   \n",
       "2203                   NaN               4.0            NaN       782   \n",
       "2204                   NaN               NaN            5.0       151   \n",
       "\n",
       "      MntRegularProds  AcceptedCmpOverall  marital_status  education_level  \\\n",
       "0                1441                   0          Single       Graduation   \n",
       "1                  15                   0          Single       Graduation   \n",
       "2                 692                   0        Together       Graduation   \n",
       "3                  43                   0        Together       Graduation   \n",
       "4                 392                   0         Married              PhD   \n",
       "...               ...                 ...             ...              ...   \n",
       "2200              847                   0         Married       Graduation   \n",
       "2201              428                   1        Together              PhD   \n",
       "2202             1193                   1        Divorced       Graduation   \n",
       "2203              721                   0        Together           Master   \n",
       "2204              130                   0         Married              PhD   \n",
       "\n",
       "      kids  expenses  \n",
       "0        0      1529  \n",
       "1        2        21  \n",
       "2        0       734  \n",
       "3        1        48  \n",
       "4        1       407  \n",
       "...    ...       ...  \n",
       "2200     1      1094  \n",
       "2201     3       436  \n",
       "2202     0      1217  \n",
       "2203     1       782  \n",
       "2204     2       151  \n",
       "\n",
       "[2205 rows x 44 columns]"
      ]
     },
     "execution_count": 6,
     "metadata": {},
     "output_type": "execute_result"
    }
   ],
   "source": [
    "#Demonstrar o documento \n",
    "df"
   ]
  },
  {
   "cell_type": "code",
   "execution_count": 7,
   "id": "b30c9413",
   "metadata": {},
   "outputs": [
    {
     "data": {
      "text/plain": [
       "Unnamed: 0                 0\n",
       "Income                     0\n",
       "Kidhome                    0\n",
       "Teenhome                   0\n",
       "Recency                    0\n",
       "MntWines                   0\n",
       "MntFruits                  0\n",
       "MntMeatProducts            0\n",
       "MntFishProducts            0\n",
       "MntSweetProducts           0\n",
       "MntGoldProds               0\n",
       "NumDealsPurchases          0\n",
       "NumWebPurchases            0\n",
       "NumCatalogPurchases        0\n",
       "NumStorePurchases          0\n",
       "NumWebVisitsMonth          0\n",
       "AcceptedCmp3               0\n",
       "AcceptedCmp4               0\n",
       "AcceptedCmp5               0\n",
       "AcceptedCmp1               0\n",
       "AcceptedCmp2               0\n",
       "Complain                   0\n",
       "Z_CostContact              0\n",
       "Z_Revenue                  0\n",
       "Response                   0\n",
       "Age                        0\n",
       "Customer_Days              0\n",
       "marital_Divorced        1975\n",
       "marital_Married         1351\n",
       "marital_Single          1728\n",
       "marital_Together        1637\n",
       "marital_Widow           2129\n",
       "education_2n Cycle      2007\n",
       "education_Basic         2151\n",
       "education_Graduation    1092\n",
       "education_Master        1841\n",
       "education_PhD           1729\n",
       "MntTotal                   0\n",
       "MntRegularProds            0\n",
       "AcceptedCmpOverall         0\n",
       "marital_status             0\n",
       "education_level            0\n",
       "kids                       0\n",
       "expenses                   0\n",
       "dtype: int64"
      ]
     },
     "execution_count": 7,
     "metadata": {},
     "output_type": "execute_result"
    }
   ],
   "source": [
    "#Para verificar se temos células vazias\n",
    "df.isnull().sum()"
   ]
  },
  {
   "cell_type": "code",
   "execution_count": 8,
   "id": "6785fd40",
   "metadata": {},
   "outputs": [
    {
     "data": {
      "text/html": [
       "<div>\n",
       "<style scoped>\n",
       "    .dataframe tbody tr th:only-of-type {\n",
       "        vertical-align: middle;\n",
       "    }\n",
       "\n",
       "    .dataframe tbody tr th {\n",
       "        vertical-align: top;\n",
       "    }\n",
       "\n",
       "    .dataframe thead th {\n",
       "        text-align: right;\n",
       "    }\n",
       "</style>\n",
       "<table border=\"1\" class=\"dataframe\">\n",
       "  <thead>\n",
       "    <tr style=\"text-align: right;\">\n",
       "      <th></th>\n",
       "      <th>kids</th>\n",
       "      <th>Income</th>\n",
       "      <th>expenses</th>\n",
       "    </tr>\n",
       "  </thead>\n",
       "  <tbody>\n",
       "    <tr>\n",
       "      <th>count</th>\n",
       "      <td>2205.000000</td>\n",
       "      <td>2205.000000</td>\n",
       "      <td>2205.000000</td>\n",
       "    </tr>\n",
       "    <tr>\n",
       "      <th>mean</th>\n",
       "      <td>0.948753</td>\n",
       "      <td>51622.094785</td>\n",
       "      <td>562.764626</td>\n",
       "    </tr>\n",
       "    <tr>\n",
       "      <th>std</th>\n",
       "      <td>0.749231</td>\n",
       "      <td>20713.063826</td>\n",
       "      <td>575.936911</td>\n",
       "    </tr>\n",
       "    <tr>\n",
       "      <th>min</th>\n",
       "      <td>0.000000</td>\n",
       "      <td>1730.000000</td>\n",
       "      <td>4.000000</td>\n",
       "    </tr>\n",
       "    <tr>\n",
       "      <th>25%</th>\n",
       "      <td>0.000000</td>\n",
       "      <td>35196.000000</td>\n",
       "      <td>56.000000</td>\n",
       "    </tr>\n",
       "    <tr>\n",
       "      <th>50%</th>\n",
       "      <td>1.000000</td>\n",
       "      <td>51287.000000</td>\n",
       "      <td>343.000000</td>\n",
       "    </tr>\n",
       "    <tr>\n",
       "      <th>75%</th>\n",
       "      <td>1.000000</td>\n",
       "      <td>68281.000000</td>\n",
       "      <td>964.000000</td>\n",
       "    </tr>\n",
       "    <tr>\n",
       "      <th>max</th>\n",
       "      <td>3.000000</td>\n",
       "      <td>113734.000000</td>\n",
       "      <td>2491.000000</td>\n",
       "    </tr>\n",
       "  </tbody>\n",
       "</table>\n",
       "</div>"
      ],
      "text/plain": [
       "              kids         Income     expenses\n",
       "count  2205.000000    2205.000000  2205.000000\n",
       "mean      0.948753   51622.094785   562.764626\n",
       "std       0.749231   20713.063826   575.936911\n",
       "min       0.000000    1730.000000     4.000000\n",
       "25%       0.000000   35196.000000    56.000000\n",
       "50%       1.000000   51287.000000   343.000000\n",
       "75%       1.000000   68281.000000   964.000000\n",
       "max       3.000000  113734.000000  2491.000000"
      ]
     },
     "execution_count": 8,
     "metadata": {},
     "output_type": "execute_result"
    }
   ],
   "source": [
    "#A média, mediana 25 percentil, 75 percentil, mínimo e máximo das colunas 'income', 'kids' , 'expenses'\n",
    "\n",
    "df[[\"kids\", \"Income\", \"expenses\"]].describe()\n"
   ]
  },
  {
   "cell_type": "markdown",
   "id": "535d31b2",
   "metadata": {},
   "source": [
    "O maior salário demonstrado na tabela acima é de 113.734, e o salário mínimo é de 1.730, vamos analisar melhor a distribuição dos salários "
   ]
  },
  {
   "cell_type": "code",
   "execution_count": 11,
   "id": "b04dfb3d",
   "metadata": {},
   "outputs": [
    {
     "data": {
      "text/plain": [
       "<Axes: >"
      ]
     },
     "execution_count": 11,
     "metadata": {},
     "output_type": "execute_result"
    },
    {
     "data": {
      "image/png": "[encoded data removed]",
      "text/plain": [
       "<Figure size 640x480 with 1 Axes>"
      ]
     },
     "metadata": {},
     "output_type": "display_data"
    }
   ],
   "source": [
    "#Abaixo o boxplot para análise\n",
    "sns.boxplot(df['Income'])"
   ]
  },
  {
   "cell_type": "code",
   "execution_count": 13,
   "id": "8eccd0da",
   "metadata": {},
   "outputs": [
    {
     "data": {
      "text/plain": [
       "0.4012441554786958"
      ]
     },
     "execution_count": 13,
     "metadata": {},
     "output_type": "execute_result"
    }
   ],
   "source": [
    "#Calculando desvio\n",
    "desvio = df['Income'].std()/df['Income'].mean()\n",
    "desvio"
   ]
  },
  {
   "cell_type": "code",
   "execution_count": 14,
   "id": "22a5b613",
   "metadata": {},
   "outputs": [
    {
     "data": {
      "text/plain": [
       "0.013164263414417078"
      ]
     },
     "execution_count": 14,
     "metadata": {},
     "output_type": "execute_result"
    }
   ],
   "source": [
    "#Calculando a variância da tabela\n",
    "df['Income'].skew()"
   ]
  },
  {
   "cell_type": "markdown",
   "id": "3edb784e",
   "metadata": {},
   "source": [
    "Com as informações acima, é possível identificar que os salários dos clientes estão bem distribuidos, se aproximando de uma curva normal de variância. "
   ]
  },
  {
   "cell_type": "markdown",
   "id": "08e2916b",
   "metadata": {},
   "source": [
    "Análise dos níveis de educação dos clientes"
   ]
  },
  {
   "cell_type": "code",
   "execution_count": 15,
   "id": "b15b3fb1",
   "metadata": {},
   "outputs": [
    {
     "data": {
      "text/plain": [
       "<Axes: xlabel='education_level', ylabel='count'>"
      ]
     },
     "execution_count": 15,
     "metadata": {},
     "output_type": "execute_result"
    },
    {
     "data": {
      "image/png": "[encoded data removed]",
      "text/plain": [
       "<Figure size 640x480 with 1 Axes>"
      ]
     },
     "metadata": {},
     "output_type": "display_data"
    }
   ],
   "source": [
    "sns.countplot(x=df[\"education_level\"])"
   ]
  },
  {
   "cell_type": "markdown",
   "id": "1f02a100",
   "metadata": {},
   "source": [
    "Grande maioria da base possui graduação. "
   ]
  },
  {
   "cell_type": "markdown",
   "id": "d03a7983",
   "metadata": {},
   "source": [
    "Análise do estado civil dos clientes"
   ]
  },
  {
   "cell_type": "code",
   "execution_count": 17,
   "id": "e10eb702",
   "metadata": {},
   "outputs": [
    {
     "data": {
      "text/plain": [
       "<Axes: xlabel='marital_status', ylabel='count'>"
      ]
     },
     "execution_count": 17,
     "metadata": {},
     "output_type": "execute_result"
    },
    {
     "data": {
      "image/png": "[encoded data removed]",
      "text/plain": [
       "<Figure size 640x480 with 1 Axes>"
      ]
     },
     "metadata": {},
     "output_type": "display_data"
    }
   ],
   "source": [
    "sns.countplot(x=df[\"marital_status\"])"
   ]
  },
  {
   "cell_type": "markdown",
   "id": "e8d72108",
   "metadata": {},
   "source": [
    "A maioria dos clientes são casados."
   ]
  },
  {
   "cell_type": "markdown",
   "id": "d66956a9",
   "metadata": {},
   "source": [
    "<h2> Hipóteses"
   ]
  },
  {
   "cell_type": "markdown",
   "id": "8b78a7cd",
   "metadata": {},
   "source": [
    "- Será que as pessoas casadas tem mais filhos - filhos está na coluna 'kids'\n",
    "- As pessoas gastam mais ou menos em nossa plataforma quando têm filhos - ver nas colunas 'expenses' \n",
    "- Pessoas que tem mais salários gastam mais 'expenses'"
   ]
  },
  {
   "cell_type": "code",
   "execution_count": 19,
   "id": "363d69c0",
   "metadata": {},
   "outputs": [
    {
     "data": {
      "text/html": [
       "<div>\n",
       "<style scoped>\n",
       "    .dataframe tbody tr th:only-of-type {\n",
       "        vertical-align: middle;\n",
       "    }\n",
       "\n",
       "    .dataframe tbody tr th {\n",
       "        vertical-align: top;\n",
       "    }\n",
       "\n",
       "    .dataframe thead th {\n",
       "        text-align: right;\n",
       "    }\n",
       "</style>\n",
       "<table border=\"1\" class=\"dataframe\">\n",
       "  <thead>\n",
       "    <tr style=\"text-align: right;\">\n",
       "      <th></th>\n",
       "      <th>count</th>\n",
       "      <th>mean</th>\n",
       "      <th>std</th>\n",
       "      <th>min</th>\n",
       "      <th>25%</th>\n",
       "      <th>50%</th>\n",
       "      <th>75%</th>\n",
       "      <th>max</th>\n",
       "    </tr>\n",
       "    <tr>\n",
       "      <th>marital_status</th>\n",
       "      <th></th>\n",
       "      <th></th>\n",
       "      <th></th>\n",
       "      <th></th>\n",
       "      <th></th>\n",
       "      <th></th>\n",
       "      <th></th>\n",
       "      <th></th>\n",
       "    </tr>\n",
       "  </thead>\n",
       "  <tbody>\n",
       "    <tr>\n",
       "      <th>Divorced</th>\n",
       "      <td>230.0</td>\n",
       "      <td>1.008696</td>\n",
       "      <td>0.741716</td>\n",
       "      <td>0.0</td>\n",
       "      <td>1.0</td>\n",
       "      <td>1.0</td>\n",
       "      <td>1.0</td>\n",
       "      <td>3.0</td>\n",
       "    </tr>\n",
       "    <tr>\n",
       "      <th>Married</th>\n",
       "      <td>854.0</td>\n",
       "      <td>0.967213</td>\n",
       "      <td>0.732019</td>\n",
       "      <td>0.0</td>\n",
       "      <td>0.0</td>\n",
       "      <td>1.0</td>\n",
       "      <td>1.0</td>\n",
       "      <td>3.0</td>\n",
       "    </tr>\n",
       "    <tr>\n",
       "      <th>Single</th>\n",
       "      <td>477.0</td>\n",
       "      <td>0.859539</td>\n",
       "      <td>0.777289</td>\n",
       "      <td>0.0</td>\n",
       "      <td>0.0</td>\n",
       "      <td>1.0</td>\n",
       "      <td>1.0</td>\n",
       "      <td>3.0</td>\n",
       "    </tr>\n",
       "    <tr>\n",
       "      <th>Together</th>\n",
       "      <td>568.0</td>\n",
       "      <td>0.980634</td>\n",
       "      <td>0.749823</td>\n",
       "      <td>0.0</td>\n",
       "      <td>0.0</td>\n",
       "      <td>1.0</td>\n",
       "      <td>1.0</td>\n",
       "      <td>3.0</td>\n",
       "    </tr>\n",
       "    <tr>\n",
       "      <th>Widow</th>\n",
       "      <td>76.0</td>\n",
       "      <td>0.881579</td>\n",
       "      <td>0.747745</td>\n",
       "      <td>0.0</td>\n",
       "      <td>0.0</td>\n",
       "      <td>1.0</td>\n",
       "      <td>1.0</td>\n",
       "      <td>2.0</td>\n",
       "    </tr>\n",
       "  </tbody>\n",
       "</table>\n",
       "</div>"
      ],
      "text/plain": [
       "                count      mean       std  min  25%  50%  75%  max\n",
       "marital_status                                                    \n",
       "Divorced        230.0  1.008696  0.741716  0.0  1.0  1.0  1.0  3.0\n",
       "Married         854.0  0.967213  0.732019  0.0  0.0  1.0  1.0  3.0\n",
       "Single          477.0  0.859539  0.777289  0.0  0.0  1.0  1.0  3.0\n",
       "Together        568.0  0.980634  0.749823  0.0  0.0  1.0  1.0  3.0\n",
       "Widow            76.0  0.881579  0.747745  0.0  0.0  1.0  1.0  2.0"
      ]
     },
     "execution_count": 19,
     "metadata": {},
     "output_type": "execute_result"
    }
   ],
   "source": [
    "df.groupby([\"marital_status\"])[\"kids\"].describe()"
   ]
  },
  {
   "cell_type": "code",
   "execution_count": 23,
   "id": "b2368cde",
   "metadata": {},
   "outputs": [
    {
     "data": {
      "image/png": "[encoded data removed]",
      "text/plain": [
       "<Figure size 640x480 with 1 Axes>"
      ]
     },
     "metadata": {},
     "output_type": "display_data"
    }
   ],
   "source": [
    "fig = sns.boxplot(x=\"marital_status\", y= \"kids\", data = df)\n"
   ]
  },
  {
   "cell_type": "markdown",
   "id": "f0417558",
   "metadata": {},
   "source": [
    "Olhando o gráfico acima os números estão próximos, independente do estado civil, mas como a média de solteiros está um pouco menor, é possível deduzir que pessoas solteiras tem menos filhos, em relação as demais categorias"
   ]
  },
  {
   "cell_type": "code",
   "execution_count": 3,
   "id": "4be18bf2",
   "metadata": {},
   "outputs": [
    {
     "data": {
      "text/plain": [
       "<Axes: xlabel='kids', ylabel='expenses'>"
      ]
     },
     "execution_count": 3,
     "metadata": {},
     "output_type": "execute_result"
    },
    {
     "data": {
      "image/png": "[encoded data removed]",
      "text/plain": [
       "<Figure size 640x480 with 1 Axes>"
      ]
     },
     "metadata": {},
     "output_type": "display_data"
    }
   ],
   "source": [
    "#Análise para pessoas com crianças gastam mais ou menos na plataforma\n",
    "\n",
    "sns.boxplot(x='kids', y= 'expenses', data=df)"
   ]
  },
  {
   "cell_type": "code",
   "execution_count": 6,
   "id": "8aa37cfc",
   "metadata": {},
   "outputs": [
    {
     "data": {
      "text/html": [
       "<div>\n",
       "<style scoped>\n",
       "    .dataframe tbody tr th:only-of-type {\n",
       "        vertical-align: middle;\n",
       "    }\n",
       "\n",
       "    .dataframe tbody tr th {\n",
       "        vertical-align: top;\n",
       "    }\n",
       "\n",
       "    .dataframe thead th {\n",
       "        text-align: right;\n",
       "    }\n",
       "</style>\n",
       "<table border=\"1\" class=\"dataframe\">\n",
       "  <thead>\n",
       "    <tr style=\"text-align: right;\">\n",
       "      <th></th>\n",
       "      <th>count</th>\n",
       "      <th>mean</th>\n",
       "      <th>std</th>\n",
       "      <th>min</th>\n",
       "      <th>25%</th>\n",
       "      <th>50%</th>\n",
       "      <th>75%</th>\n",
       "      <th>max</th>\n",
       "    </tr>\n",
       "    <tr>\n",
       "      <th>kids</th>\n",
       "      <th></th>\n",
       "      <th></th>\n",
       "      <th></th>\n",
       "      <th></th>\n",
       "      <th></th>\n",
       "      <th></th>\n",
       "      <th></th>\n",
       "      <th></th>\n",
       "    </tr>\n",
       "  </thead>\n",
       "  <tbody>\n",
       "    <tr>\n",
       "      <th>0</th>\n",
       "      <td>628.0</td>\n",
       "      <td>1041.207006</td>\n",
       "      <td>625.734894</td>\n",
       "      <td>5.0</td>\n",
       "      <td>546.00</td>\n",
       "      <td>1106.5</td>\n",
       "      <td>1505.50</td>\n",
       "      <td>2491.0</td>\n",
       "    </tr>\n",
       "    <tr>\n",
       "      <th>1</th>\n",
       "      <td>1112.0</td>\n",
       "      <td>434.530576</td>\n",
       "      <td>452.606603</td>\n",
       "      <td>4.0</td>\n",
       "      <td>50.00</td>\n",
       "      <td>264.0</td>\n",
       "      <td>762.25</td>\n",
       "      <td>2036.0</td>\n",
       "    </tr>\n",
       "    <tr>\n",
       "      <th>2</th>\n",
       "      <td>415.0</td>\n",
       "      <td>221.568675</td>\n",
       "      <td>290.259678</td>\n",
       "      <td>8.0</td>\n",
       "      <td>39.00</td>\n",
       "      <td>84.0</td>\n",
       "      <td>296.50</td>\n",
       "      <td>1627.0</td>\n",
       "    </tr>\n",
       "    <tr>\n",
       "      <th>3</th>\n",
       "      <td>50.0</td>\n",
       "      <td>237.380000</td>\n",
       "      <td>390.174157</td>\n",
       "      <td>6.0</td>\n",
       "      <td>28.25</td>\n",
       "      <td>62.0</td>\n",
       "      <td>254.00</td>\n",
       "      <td>1601.0</td>\n",
       "    </tr>\n",
       "  </tbody>\n",
       "</table>\n",
       "</div>"
      ],
      "text/plain": [
       "       count         mean         std  min     25%     50%      75%     max\n",
       "kids                                                                       \n",
       "0      628.0  1041.207006  625.734894  5.0  546.00  1106.5  1505.50  2491.0\n",
       "1     1112.0   434.530576  452.606603  4.0   50.00   264.0   762.25  2036.0\n",
       "2      415.0   221.568675  290.259678  8.0   39.00    84.0   296.50  1627.0\n",
       "3       50.0   237.380000  390.174157  6.0   28.25    62.0   254.00  1601.0"
      ]
     },
     "execution_count": 6,
     "metadata": {},
     "output_type": "execute_result"
    }
   ],
   "source": [
    "df.groupby(\"kids\")[\"expenses\"].describe()"
   ]
  },
  {
   "cell_type": "code",
   "execution_count": 7,
   "id": "7c83b971",
   "metadata": {},
   "outputs": [
    {
     "data": {
      "text/plain": [
       "kids\n",
       "0    1106.5\n",
       "1     264.0\n",
       "2      84.0\n",
       "3      62.0\n",
       "Name: expenses, dtype: float64"
      ]
     },
     "execution_count": 7,
     "metadata": {},
     "output_type": "execute_result"
    }
   ],
   "source": [
    "df.groupby(\"kids\")[\"expenses\"].median()"
   ]
  },
  {
   "cell_type": "markdown",
   "id": "187bd491",
   "metadata": {},
   "source": [
    "Possível identificar no gráfico acima, que quanto mais a família possui crianças menos elas gastam, mas há presença de outliers, sobretudo quando há um filho. Mas apesar disso,  é possível visualizar a queda de gastos quando há uma criança na família."
   ]
  },
  {
   "cell_type": "code",
   "execution_count": 8,
   "id": "aaaeb93a",
   "metadata": {},
   "outputs": [
    {
     "data": {
      "text/plain": [
       "<Axes: xlabel='expenses', ylabel='Income'>"
      ]
     },
     "execution_count": 8,
     "metadata": {},
     "output_type": "execute_result"
    },
    {
     "data": {
      "image/png": "[encoded data removed]",
      "text/plain": [
       "<Figure size 640x480 with 1 Axes>"
      ]
     },
     "metadata": {},
     "output_type": "display_data"
    }
   ],
   "source": [
    "#Análise se pessoas que recebem mais gastam mais \n",
    "sns.boxplot(x=\"expenses\", y= \"Income\", data = df)"
   ]
  },
  {
   "cell_type": "markdown",
   "id": "f55ad35f",
   "metadata": {},
   "source": [
    "Não foi uma escolha colocar o boxplot, então vou aplicar outra visualização:\n"
   ]
  },
  {
   "cell_type": "code",
   "execution_count": 9,
   "id": "d15f56ca",
   "metadata": {},
   "outputs": [
    {
     "data": {
      "text/plain": [
       "<Axes: xlabel='expenses', ylabel='Income'>"
      ]
     },
     "execution_count": 9,
     "metadata": {},
     "output_type": "execute_result"
    },
    {
     "data": {
      "image/png": "[encoded data removed]",
      "text/plain": [
       "<Figure size 640x480 with 1 Axes>"
      ]
     },
     "metadata": {},
     "output_type": "display_data"
    }
   ],
   "source": [
    "sns.scatterplot(x=\"expenses\", y=\"Income\", data = df)"
   ]
  },
  {
   "cell_type": "markdown",
   "id": "f349892a",
   "metadata": {},
   "source": [
    "É possível identificar no gráfico uma linha de crescimento de quanto maior a remuneração da pessoa, demonstrado no eixo \"y\" mais ela gasta na plataforma, demonstrado no eixo \"x\", logo a relação é diretamente proporcional entre o valor que a pessoa ganha versus os gastos na plataforma"
   ]
  },
  {
   "cell_type": "code",
   "execution_count": 14,
   "id": "5c20b6ee",
   "metadata": {},
   "outputs": [
    {
     "data": {
      "text/plain": [
       "<Axes: xlabel='kids', ylabel='Income'>"
      ]
     },
     "execution_count": 14,
     "metadata": {},
     "output_type": "execute_result"
    },
    {
     "data": {
      "image/png": "[encoded data removed]",
      "text/plain": [
       "<Figure size 640x480 with 1 Axes>"
      ]
     },
     "metadata": {},
     "output_type": "display_data"
    }
   ],
   "source": [
    "#Analisar se há clientes com altos salários e com filhos\n",
    "sns.boxplot(x=\"kids\", y= \"Income\", data = df)"
   ]
  },
  {
   "cell_type": "code",
   "execution_count": 15,
   "id": "e335882c",
   "metadata": {},
   "outputs": [
    {
     "data": {
      "text/plain": [
       "kids\n",
       "0    72082.5\n",
       "1    47068.0\n",
       "2    44051.0\n",
       "3    44277.0\n",
       "Name: Income, dtype: float64"
      ]
     },
     "execution_count": 15,
     "metadata": {},
     "output_type": "execute_result"
    }
   ],
   "source": [
    "df.groupby(\"kids\")[\"Income\"].median()"
   ]
  },
  {
   "cell_type": "code",
   "execution_count": 16,
   "id": "9a11e42d",
   "metadata": {},
   "outputs": [
    {
     "data": {
      "text/html": [
       "<div>\n",
       "<style scoped>\n",
       "    .dataframe tbody tr th:only-of-type {\n",
       "        vertical-align: middle;\n",
       "    }\n",
       "\n",
       "    .dataframe tbody tr th {\n",
       "        vertical-align: top;\n",
       "    }\n",
       "\n",
       "    .dataframe thead th {\n",
       "        text-align: right;\n",
       "    }\n",
       "</style>\n",
       "<table border=\"1\" class=\"dataframe\">\n",
       "  <thead>\n",
       "    <tr style=\"text-align: right;\">\n",
       "      <th></th>\n",
       "      <th>count</th>\n",
       "      <th>mean</th>\n",
       "      <th>std</th>\n",
       "      <th>min</th>\n",
       "      <th>25%</th>\n",
       "      <th>50%</th>\n",
       "      <th>75%</th>\n",
       "      <th>max</th>\n",
       "    </tr>\n",
       "    <tr>\n",
       "      <th>kids</th>\n",
       "      <th></th>\n",
       "      <th></th>\n",
       "      <th></th>\n",
       "      <th></th>\n",
       "      <th></th>\n",
       "      <th></th>\n",
       "      <th></th>\n",
       "      <th></th>\n",
       "    </tr>\n",
       "  </thead>\n",
       "  <tbody>\n",
       "    <tr>\n",
       "      <th>0</th>\n",
       "      <td>628.0</td>\n",
       "      <td>65094.417197</td>\n",
       "      <td>22558.308456</td>\n",
       "      <td>1730.0</td>\n",
       "      <td>52526.50</td>\n",
       "      <td>72082.5</td>\n",
       "      <td>81045.75</td>\n",
       "      <td>113734.0</td>\n",
       "    </tr>\n",
       "    <tr>\n",
       "      <th>1</th>\n",
       "      <td>1112.0</td>\n",
       "      <td>46957.959532</td>\n",
       "      <td>18207.545290</td>\n",
       "      <td>2447.0</td>\n",
       "      <td>31990.25</td>\n",
       "      <td>47068.0</td>\n",
       "      <td>61880.25</td>\n",
       "      <td>94472.0</td>\n",
       "    </tr>\n",
       "    <tr>\n",
       "      <th>2</th>\n",
       "      <td>415.0</td>\n",
       "      <td>44328.491566</td>\n",
       "      <td>14344.395061</td>\n",
       "      <td>4023.0</td>\n",
       "      <td>35572.50</td>\n",
       "      <td>44051.0</td>\n",
       "      <td>53306.00</td>\n",
       "      <td>94871.0</td>\n",
       "    </tr>\n",
       "    <tr>\n",
       "      <th>3</th>\n",
       "      <td>50.0</td>\n",
       "      <td>46677.000000</td>\n",
       "      <td>15350.343167</td>\n",
       "      <td>22574.0</td>\n",
       "      <td>35688.00</td>\n",
       "      <td>44277.0</td>\n",
       "      <td>56782.25</td>\n",
       "      <td>93404.0</td>\n",
       "    </tr>\n",
       "  </tbody>\n",
       "</table>\n",
       "</div>"
      ],
      "text/plain": [
       "       count          mean           std      min       25%      50%  \\\n",
       "kids                                                                   \n",
       "0      628.0  65094.417197  22558.308456   1730.0  52526.50  72082.5   \n",
       "1     1112.0  46957.959532  18207.545290   2447.0  31990.25  47068.0   \n",
       "2      415.0  44328.491566  14344.395061   4023.0  35572.50  44051.0   \n",
       "3       50.0  46677.000000  15350.343167  22574.0  35688.00  44277.0   \n",
       "\n",
       "           75%       max  \n",
       "kids                      \n",
       "0     81045.75  113734.0  \n",
       "1     61880.25   94472.0  \n",
       "2     53306.00   94871.0  \n",
       "3     56782.25   93404.0  "
      ]
     },
     "execution_count": 16,
     "metadata": {},
     "output_type": "execute_result"
    }
   ],
   "source": [
    "df.groupby(\"kids\")[\"Income\"].describe()"
   ]
  },
  {
   "cell_type": "markdown",
   "id": "6a6891bb",
   "metadata": {},
   "source": [
    "Com os dados demonstrados acima, seria interessante o aplicativo da Ifood, realizar alguma campanha de marketing para atrair pessoas que possuam filhos, como por exemplo: cupom família, em que a precificação seja atratativa para o pessoal de negócio, a fim de trazer mais clientes para a plataforma. "
   ]
  },
  {
   "cell_type": "code",
   "execution_count": null,
   "id": "c673e9d3",
   "metadata": {},
   "outputs": [],
   "source": []
  }
 ],
 "metadata": {
  "kernelspec": {
   "display_name": "Python 3 (ipykernel)",
   "language": "python",
   "name": "python3"
  },
  "language_info": {
   "codemirror_mode": {
    "name": "ipython",
    "version": 3
   },
   "file_extension": ".py",
   "mimetype": "text/x-python",
   "name": "python",
   "nbconvert_exporter": "python",
   "pygments_lexer": "ipython3",
   "version": "3.11.4"
  }
 },
 "nbformat": 4,
 "nbformat_minor": 5
}
